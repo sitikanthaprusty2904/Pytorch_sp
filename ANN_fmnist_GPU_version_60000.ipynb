{
  "nbformat": 4,
  "nbformat_minor": 0,
  "metadata": {
    "colab": {
      "provenance": [],
      "gpuType": "T4",
      "authorship_tag": "ABX9TyNtyD1y1+gAvqcW/5LdrQh3",
      "include_colab_link": true
    },
    "kernelspec": {
      "name": "python3",
      "display_name": "Python 3"
    },
    "language_info": {
      "name": "python"
    },
    "accelerator": "GPU"
  },
  "cells": [
    {
      "cell_type": "markdown",
      "metadata": {
        "id": "view-in-github",
        "colab_type": "text"
      },
      "source": [
        "<a href=\"https://colab.research.google.com/github/sitikanthaprusty2904/Pytorch_sp/blob/main/ANN_fmnist_GPU_version_60000.ipynb\" target=\"_parent\"><img src=\"https://colab.research.google.com/assets/colab-badge.svg\" alt=\"Open In Colab\"/></a>"
      ]
    },
    {
      "cell_type": "code",
      "execution_count": 95,
      "metadata": {
        "id": "1vkA1HMgrz0K"
      },
      "outputs": [],
      "source": [
        "import numpy as np\n",
        "import pandas as pd\n",
        "import torch\n",
        "import torch.nn as nn\n",
        "import torch.optim as optim\n",
        "from sklearn.model_selection import train_test_split\n",
        "from sklearn.preprocessing import StandardScaler\n",
        "from sklearn.preprocessing import LabelEncoder\n",
        "from torch.utils.data import DataLoader, Dataset\n",
        "import matplotlib.pyplot as plt\n",
        "\n",
        "#ok bro"
      ]
    },
    {
      "cell_type": "code",
      "source": [
        "# set random seed for reproductibility\n",
        "torch.manual_seed(42)\n"
      ],
      "metadata": {
        "colab": {
          "base_uri": "https://localhost:8080/"
        },
        "id": "qx-q-YLXsM-4",
        "outputId": "b4929a1f-ba41-444b-b7b9-eb633674386c"
      },
      "execution_count": 96,
      "outputs": [
        {
          "output_type": "execute_result",
          "data": {
            "text/plain": [
              "<torch._C.Generator at 0x7efc3b38c670>"
            ]
          },
          "metadata": {},
          "execution_count": 96
        }
      ]
    },
    {
      "cell_type": "code",
      "source": [
        "# check GPU availibility\n",
        "device='cpu'\n",
        "if torch.cuda.is_available():\n",
        "  device=torch.device('cuda')\n",
        "print('device: ',device)"
      ],
      "metadata": {
        "colab": {
          "base_uri": "https://localhost:8080/"
        },
        "id": "fO_vsAoCIJD6",
        "outputId": "544142ad-7943-4a85-ea47-7f1d1775648f"
      },
      "execution_count": 97,
      "outputs": [
        {
          "output_type": "stream",
          "name": "stdout",
          "text": [
            "device:  cuda\n"
          ]
        }
      ]
    },
    {
      "cell_type": "code",
      "source": [
        "df=pd.read_csv('fashion-mnist_train.csv')\n",
        "df.head()"
      ],
      "metadata": {
        "colab": {
          "base_uri": "https://localhost:8080/",
          "height": 255
        },
        "id": "GAzknliVtF0e",
        "outputId": "49663783-3ee2-4c7d-eb56-9ea0929ba985"
      },
      "execution_count": 98,
      "outputs": [
        {
          "output_type": "execute_result",
          "data": {
            "text/plain": [
              "   label  pixel1  pixel2  pixel3  pixel4  pixel5  pixel6  pixel7  pixel8  \\\n",
              "0      2       0       0       0       0       0       0       0       0   \n",
              "1      9       0       0       0       0       0       0       0       0   \n",
              "2      6       0       0       0       0       0       0       0       5   \n",
              "3      0       0       0       0       1       2       0       0       0   \n",
              "4      3       0       0       0       0       0       0       0       0   \n",
              "\n",
              "   pixel9  ...  pixel775  pixel776  pixel777  pixel778  pixel779  pixel780  \\\n",
              "0       0  ...         0         0         0         0         0         0   \n",
              "1       0  ...         0         0         0         0         0         0   \n",
              "2       0  ...         0         0         0        30        43         0   \n",
              "3       0  ...         3         0         0         0         0         1   \n",
              "4       0  ...         0         0         0         0         0         0   \n",
              "\n",
              "   pixel781  pixel782  pixel783  pixel784  \n",
              "0         0         0         0         0  \n",
              "1         0         0         0         0  \n",
              "2         0         0         0         0  \n",
              "3         0         0         0         0  \n",
              "4         0         0         0         0  \n",
              "\n",
              "[5 rows x 785 columns]"
            ],
            "text/html": [
              "\n",
              "  <div id=\"df-5418c927-4ed0-407a-8728-f0f8b5e4017d\" class=\"colab-df-container\">\n",
              "    <div>\n",
              "<style scoped>\n",
              "    .dataframe tbody tr th:only-of-type {\n",
              "        vertical-align: middle;\n",
              "    }\n",
              "\n",
              "    .dataframe tbody tr th {\n",
              "        vertical-align: top;\n",
              "    }\n",
              "\n",
              "    .dataframe thead th {\n",
              "        text-align: right;\n",
              "    }\n",
              "</style>\n",
              "<table border=\"1\" class=\"dataframe\">\n",
              "  <thead>\n",
              "    <tr style=\"text-align: right;\">\n",
              "      <th></th>\n",
              "      <th>label</th>\n",
              "      <th>pixel1</th>\n",
              "      <th>pixel2</th>\n",
              "      <th>pixel3</th>\n",
              "      <th>pixel4</th>\n",
              "      <th>pixel5</th>\n",
              "      <th>pixel6</th>\n",
              "      <th>pixel7</th>\n",
              "      <th>pixel8</th>\n",
              "      <th>pixel9</th>\n",
              "      <th>...</th>\n",
              "      <th>pixel775</th>\n",
              "      <th>pixel776</th>\n",
              "      <th>pixel777</th>\n",
              "      <th>pixel778</th>\n",
              "      <th>pixel779</th>\n",
              "      <th>pixel780</th>\n",
              "      <th>pixel781</th>\n",
              "      <th>pixel782</th>\n",
              "      <th>pixel783</th>\n",
              "      <th>pixel784</th>\n",
              "    </tr>\n",
              "  </thead>\n",
              "  <tbody>\n",
              "    <tr>\n",
              "      <th>0</th>\n",
              "      <td>2</td>\n",
              "      <td>0</td>\n",
              "      <td>0</td>\n",
              "      <td>0</td>\n",
              "      <td>0</td>\n",
              "      <td>0</td>\n",
              "      <td>0</td>\n",
              "      <td>0</td>\n",
              "      <td>0</td>\n",
              "      <td>0</td>\n",
              "      <td>...</td>\n",
              "      <td>0</td>\n",
              "      <td>0</td>\n",
              "      <td>0</td>\n",
              "      <td>0</td>\n",
              "      <td>0</td>\n",
              "      <td>0</td>\n",
              "      <td>0</td>\n",
              "      <td>0</td>\n",
              "      <td>0</td>\n",
              "      <td>0</td>\n",
              "    </tr>\n",
              "    <tr>\n",
              "      <th>1</th>\n",
              "      <td>9</td>\n",
              "      <td>0</td>\n",
              "      <td>0</td>\n",
              "      <td>0</td>\n",
              "      <td>0</td>\n",
              "      <td>0</td>\n",
              "      <td>0</td>\n",
              "      <td>0</td>\n",
              "      <td>0</td>\n",
              "      <td>0</td>\n",
              "      <td>...</td>\n",
              "      <td>0</td>\n",
              "      <td>0</td>\n",
              "      <td>0</td>\n",
              "      <td>0</td>\n",
              "      <td>0</td>\n",
              "      <td>0</td>\n",
              "      <td>0</td>\n",
              "      <td>0</td>\n",
              "      <td>0</td>\n",
              "      <td>0</td>\n",
              "    </tr>\n",
              "    <tr>\n",
              "      <th>2</th>\n",
              "      <td>6</td>\n",
              "      <td>0</td>\n",
              "      <td>0</td>\n",
              "      <td>0</td>\n",
              "      <td>0</td>\n",
              "      <td>0</td>\n",
              "      <td>0</td>\n",
              "      <td>0</td>\n",
              "      <td>5</td>\n",
              "      <td>0</td>\n",
              "      <td>...</td>\n",
              "      <td>0</td>\n",
              "      <td>0</td>\n",
              "      <td>0</td>\n",
              "      <td>30</td>\n",
              "      <td>43</td>\n",
              "      <td>0</td>\n",
              "      <td>0</td>\n",
              "      <td>0</td>\n",
              "      <td>0</td>\n",
              "      <td>0</td>\n",
              "    </tr>\n",
              "    <tr>\n",
              "      <th>3</th>\n",
              "      <td>0</td>\n",
              "      <td>0</td>\n",
              "      <td>0</td>\n",
              "      <td>0</td>\n",
              "      <td>1</td>\n",
              "      <td>2</td>\n",
              "      <td>0</td>\n",
              "      <td>0</td>\n",
              "      <td>0</td>\n",
              "      <td>0</td>\n",
              "      <td>...</td>\n",
              "      <td>3</td>\n",
              "      <td>0</td>\n",
              "      <td>0</td>\n",
              "      <td>0</td>\n",
              "      <td>0</td>\n",
              "      <td>1</td>\n",
              "      <td>0</td>\n",
              "      <td>0</td>\n",
              "      <td>0</td>\n",
              "      <td>0</td>\n",
              "    </tr>\n",
              "    <tr>\n",
              "      <th>4</th>\n",
              "      <td>3</td>\n",
              "      <td>0</td>\n",
              "      <td>0</td>\n",
              "      <td>0</td>\n",
              "      <td>0</td>\n",
              "      <td>0</td>\n",
              "      <td>0</td>\n",
              "      <td>0</td>\n",
              "      <td>0</td>\n",
              "      <td>0</td>\n",
              "      <td>...</td>\n",
              "      <td>0</td>\n",
              "      <td>0</td>\n",
              "      <td>0</td>\n",
              "      <td>0</td>\n",
              "      <td>0</td>\n",
              "      <td>0</td>\n",
              "      <td>0</td>\n",
              "      <td>0</td>\n",
              "      <td>0</td>\n",
              "      <td>0</td>\n",
              "    </tr>\n",
              "  </tbody>\n",
              "</table>\n",
              "<p>5 rows × 785 columns</p>\n",
              "</div>\n",
              "    <div class=\"colab-df-buttons\">\n",
              "\n",
              "  <div class=\"colab-df-container\">\n",
              "    <button class=\"colab-df-convert\" onclick=\"convertToInteractive('df-5418c927-4ed0-407a-8728-f0f8b5e4017d')\"\n",
              "            title=\"Convert this dataframe to an interactive table.\"\n",
              "            style=\"display:none;\">\n",
              "\n",
              "  <svg xmlns=\"http://www.w3.org/2000/svg\" height=\"24px\" viewBox=\"0 -960 960 960\">\n",
              "    <path d=\"M120-120v-720h720v720H120Zm60-500h600v-160H180v160Zm220 220h160v-160H400v160Zm0 220h160v-160H400v160ZM180-400h160v-160H180v160Zm440 0h160v-160H620v160ZM180-180h160v-160H180v160Zm440 0h160v-160H620v160Z\"/>\n",
              "  </svg>\n",
              "    </button>\n",
              "\n",
              "  <style>\n",
              "    .colab-df-container {\n",
              "      display:flex;\n",
              "      gap: 12px;\n",
              "    }\n",
              "\n",
              "    .colab-df-convert {\n",
              "      background-color: #E8F0FE;\n",
              "      border: none;\n",
              "      border-radius: 50%;\n",
              "      cursor: pointer;\n",
              "      display: none;\n",
              "      fill: #1967D2;\n",
              "      height: 32px;\n",
              "      padding: 0 0 0 0;\n",
              "      width: 32px;\n",
              "    }\n",
              "\n",
              "    .colab-df-convert:hover {\n",
              "      background-color: #E2EBFA;\n",
              "      box-shadow: 0px 1px 2px rgba(60, 64, 67, 0.3), 0px 1px 3px 1px rgba(60, 64, 67, 0.15);\n",
              "      fill: #174EA6;\n",
              "    }\n",
              "\n",
              "    .colab-df-buttons div {\n",
              "      margin-bottom: 4px;\n",
              "    }\n",
              "\n",
              "    [theme=dark] .colab-df-convert {\n",
              "      background-color: #3B4455;\n",
              "      fill: #D2E3FC;\n",
              "    }\n",
              "\n",
              "    [theme=dark] .colab-df-convert:hover {\n",
              "      background-color: #434B5C;\n",
              "      box-shadow: 0px 1px 3px 1px rgba(0, 0, 0, 0.15);\n",
              "      filter: drop-shadow(0px 1px 2px rgba(0, 0, 0, 0.3));\n",
              "      fill: #FFFFFF;\n",
              "    }\n",
              "  </style>\n",
              "\n",
              "    <script>\n",
              "      const buttonEl =\n",
              "        document.querySelector('#df-5418c927-4ed0-407a-8728-f0f8b5e4017d button.colab-df-convert');\n",
              "      buttonEl.style.display =\n",
              "        google.colab.kernel.accessAllowed ? 'block' : 'none';\n",
              "\n",
              "      async function convertToInteractive(key) {\n",
              "        const element = document.querySelector('#df-5418c927-4ed0-407a-8728-f0f8b5e4017d');\n",
              "        const dataTable =\n",
              "          await google.colab.kernel.invokeFunction('convertToInteractive',\n",
              "                                                    [key], {});\n",
              "        if (!dataTable) return;\n",
              "\n",
              "        const docLinkHtml = 'Like what you see? Visit the ' +\n",
              "          '<a target=\"_blank\" href=https://colab.research.google.com/notebooks/data_table.ipynb>data table notebook</a>'\n",
              "          + ' to learn more about interactive tables.';\n",
              "        element.innerHTML = '';\n",
              "        dataTable['output_type'] = 'display_data';\n",
              "        await google.colab.output.renderOutput(dataTable, element);\n",
              "        const docLink = document.createElement('div');\n",
              "        docLink.innerHTML = docLinkHtml;\n",
              "        element.appendChild(docLink);\n",
              "      }\n",
              "    </script>\n",
              "  </div>\n",
              "\n",
              "\n",
              "    <div id=\"df-cfaf9a60-fe11-4368-b9b8-1f02801561ae\">\n",
              "      <button class=\"colab-df-quickchart\" onclick=\"quickchart('df-cfaf9a60-fe11-4368-b9b8-1f02801561ae')\"\n",
              "                title=\"Suggest charts\"\n",
              "                style=\"display:none;\">\n",
              "\n",
              "<svg xmlns=\"http://www.w3.org/2000/svg\" height=\"24px\"viewBox=\"0 0 24 24\"\n",
              "     width=\"24px\">\n",
              "    <g>\n",
              "        <path d=\"M19 3H5c-1.1 0-2 .9-2 2v14c0 1.1.9 2 2 2h14c1.1 0 2-.9 2-2V5c0-1.1-.9-2-2-2zM9 17H7v-7h2v7zm4 0h-2V7h2v10zm4 0h-2v-4h2v4z\"/>\n",
              "    </g>\n",
              "</svg>\n",
              "      </button>\n",
              "\n",
              "<style>\n",
              "  .colab-df-quickchart {\n",
              "      --bg-color: #E8F0FE;\n",
              "      --fill-color: #1967D2;\n",
              "      --hover-bg-color: #E2EBFA;\n",
              "      --hover-fill-color: #174EA6;\n",
              "      --disabled-fill-color: #AAA;\n",
              "      --disabled-bg-color: #DDD;\n",
              "  }\n",
              "\n",
              "  [theme=dark] .colab-df-quickchart {\n",
              "      --bg-color: #3B4455;\n",
              "      --fill-color: #D2E3FC;\n",
              "      --hover-bg-color: #434B5C;\n",
              "      --hover-fill-color: #FFFFFF;\n",
              "      --disabled-bg-color: #3B4455;\n",
              "      --disabled-fill-color: #666;\n",
              "  }\n",
              "\n",
              "  .colab-df-quickchart {\n",
              "    background-color: var(--bg-color);\n",
              "    border: none;\n",
              "    border-radius: 50%;\n",
              "    cursor: pointer;\n",
              "    display: none;\n",
              "    fill: var(--fill-color);\n",
              "    height: 32px;\n",
              "    padding: 0;\n",
              "    width: 32px;\n",
              "  }\n",
              "\n",
              "  .colab-df-quickchart:hover {\n",
              "    background-color: var(--hover-bg-color);\n",
              "    box-shadow: 0 1px 2px rgba(60, 64, 67, 0.3), 0 1px 3px 1px rgba(60, 64, 67, 0.15);\n",
              "    fill: var(--button-hover-fill-color);\n",
              "  }\n",
              "\n",
              "  .colab-df-quickchart-complete:disabled,\n",
              "  .colab-df-quickchart-complete:disabled:hover {\n",
              "    background-color: var(--disabled-bg-color);\n",
              "    fill: var(--disabled-fill-color);\n",
              "    box-shadow: none;\n",
              "  }\n",
              "\n",
              "  .colab-df-spinner {\n",
              "    border: 2px solid var(--fill-color);\n",
              "    border-color: transparent;\n",
              "    border-bottom-color: var(--fill-color);\n",
              "    animation:\n",
              "      spin 1s steps(1) infinite;\n",
              "  }\n",
              "\n",
              "  @keyframes spin {\n",
              "    0% {\n",
              "      border-color: transparent;\n",
              "      border-bottom-color: var(--fill-color);\n",
              "      border-left-color: var(--fill-color);\n",
              "    }\n",
              "    20% {\n",
              "      border-color: transparent;\n",
              "      border-left-color: var(--fill-color);\n",
              "      border-top-color: var(--fill-color);\n",
              "    }\n",
              "    30% {\n",
              "      border-color: transparent;\n",
              "      border-left-color: var(--fill-color);\n",
              "      border-top-color: var(--fill-color);\n",
              "      border-right-color: var(--fill-color);\n",
              "    }\n",
              "    40% {\n",
              "      border-color: transparent;\n",
              "      border-right-color: var(--fill-color);\n",
              "      border-top-color: var(--fill-color);\n",
              "    }\n",
              "    60% {\n",
              "      border-color: transparent;\n",
              "      border-right-color: var(--fill-color);\n",
              "    }\n",
              "    80% {\n",
              "      border-color: transparent;\n",
              "      border-right-color: var(--fill-color);\n",
              "      border-bottom-color: var(--fill-color);\n",
              "    }\n",
              "    90% {\n",
              "      border-color: transparent;\n",
              "      border-bottom-color: var(--fill-color);\n",
              "    }\n",
              "  }\n",
              "</style>\n",
              "\n",
              "      <script>\n",
              "        async function quickchart(key) {\n",
              "          const quickchartButtonEl =\n",
              "            document.querySelector('#' + key + ' button');\n",
              "          quickchartButtonEl.disabled = true;  // To prevent multiple clicks.\n",
              "          quickchartButtonEl.classList.add('colab-df-spinner');\n",
              "          try {\n",
              "            const charts = await google.colab.kernel.invokeFunction(\n",
              "                'suggestCharts', [key], {});\n",
              "          } catch (error) {\n",
              "            console.error('Error during call to suggestCharts:', error);\n",
              "          }\n",
              "          quickchartButtonEl.classList.remove('colab-df-spinner');\n",
              "          quickchartButtonEl.classList.add('colab-df-quickchart-complete');\n",
              "        }\n",
              "        (() => {\n",
              "          let quickchartButtonEl =\n",
              "            document.querySelector('#df-cfaf9a60-fe11-4368-b9b8-1f02801561ae button');\n",
              "          quickchartButtonEl.style.display =\n",
              "            google.colab.kernel.accessAllowed ? 'block' : 'none';\n",
              "        })();\n",
              "      </script>\n",
              "    </div>\n",
              "\n",
              "    </div>\n",
              "  </div>\n"
            ],
            "application/vnd.google.colaboratory.intrinsic+json": {
              "type": "dataframe",
              "variable_name": "df"
            }
          },
          "metadata": {},
          "execution_count": 98
        }
      ]
    },
    {
      "cell_type": "code",
      "source": [
        "df.shape"
      ],
      "metadata": {
        "colab": {
          "base_uri": "https://localhost:8080/"
        },
        "id": "mAUIApVBLgo7",
        "outputId": "91c170d4-00b9-4f3b-ac9a-a7225614a1dd"
      },
      "execution_count": 99,
      "outputs": [
        {
          "output_type": "execute_result",
          "data": {
            "text/plain": [
              "(60000, 785)"
            ]
          },
          "metadata": {},
          "execution_count": 99
        }
      ]
    },
    {
      "cell_type": "code",
      "source": [
        "# train test split\n",
        "X=df.iloc[:,1:]\n",
        "y=df.iloc[:,0]\n",
        "X_train,X_test,y_train,y_test=train_test_split(X,y,test_size=0.2,random_state=42)"
      ],
      "metadata": {
        "id": "kVWFgyoIvSKq"
      },
      "execution_count": 100,
      "outputs": []
    },
    {
      "cell_type": "code",
      "source": [
        "# scaling as max pixel is 255\n",
        "X_train=X_train/255.0\n",
        "X_test=X_test/255.0"
      ],
      "metadata": {
        "id": "aNKy9GuFvfdI"
      },
      "execution_count": 101,
      "outputs": []
    },
    {
      "cell_type": "code",
      "source": [
        "class Customdataset(Dataset):\n",
        "  def __init__(self,x,y):\n",
        "    self.x=torch.tensor(x.values,dtype=torch.float32)\n",
        "    self.y=torch.tensor(y.values,dtype=torch.long)\n",
        "  def __len__(self):\n",
        "    return len(self.x)\n",
        "  def __getitem__(self, index) :\n",
        "    return self.x[index],self.y[index]\n",
        ""
      ],
      "metadata": {
        "id": "B9uG4om_zMoq"
      },
      "execution_count": 102,
      "outputs": []
    },
    {
      "cell_type": "code",
      "source": [
        "# create train dataset object\n",
        "train_dataset=Customdataset(X_train,y_train)\n",
        "train_dataloader=DataLoader(train_dataset,batch_size=480,shuffle=True,pin_memory=True)\n",
        "\n",
        "#create test data set object\n",
        "test_dataset=Customdataset(X_test,y_test)\n",
        "test_dataloader=DataLoader(test_dataset,batch_size=480,shuffle=False,pin_memory=True)"
      ],
      "metadata": {
        "id": "KBbnuYl21PDD"
      },
      "execution_count": 103,
      "outputs": []
    },
    {
      "cell_type": "code",
      "source": [
        "# nn module class\n",
        "class MyNN(nn.Module):\n",
        "  def __init__(self,x_num):\n",
        "    super().__init__()\n",
        "    self.model=nn.Sequential(\n",
        "        nn.Linear(x_num,128),\n",
        "        nn.ReLU(),\n",
        "        nn.Linear(128,64),\n",
        "        nn.ReLU(),\n",
        "\n",
        "        nn.Linear(64,10)\n",
        "\n",
        "        )\n",
        "  def forward(self,x):\n",
        "    return self.model(x)\n"
      ],
      "metadata": {
        "id": "fVWO3xUA1zC2"
      },
      "execution_count": 104,
      "outputs": []
    },
    {
      "cell_type": "code",
      "source": [
        "# set lr and epoch\n",
        "lr=0.01\n",
        "epoch=100"
      ],
      "metadata": {
        "id": "ocVlQUMa6V9O"
      },
      "execution_count": 105,
      "outputs": []
    },
    {
      "cell_type": "code",
      "source": [
        "# initiating the model\n",
        "model=MyNN(X_train.shape[1])\n",
        "model=model.to(device)\n",
        "\n",
        "#loss\n",
        "loss=nn.CrossEntropyLoss()\n",
        "\n",
        "#optimizer\n",
        "optimizer=optim.Adam(model.parameters(),lr=lr)\n",
        "\n",
        "# len(train_dataloader)"
      ],
      "metadata": {
        "id": "v6YkY7l96hZ7"
      },
      "execution_count": 106,
      "outputs": []
    },
    {
      "cell_type": "code",
      "source": [
        "# training loop\n",
        "\n",
        "for epoch in range (epoch):\n",
        "  tl=0\n",
        "  for batch_featurs,batch_labels in train_dataloader:\n",
        "    #moving to gpu\n",
        "    batch_featurs=batch_featurs.to(device)\n",
        "    batch_labels=batch_labels.to(device)\n",
        "    # forward pass\n",
        "    output=model(batch_featurs)\n",
        "    #loss\n",
        "    loss_value=loss(output,batch_labels)\n",
        "    #backward\n",
        "    optimizer.zero_grad()\n",
        "    loss_value.backward()\n",
        "    #update grad\n",
        "    optimizer.step()\n",
        "    tl+=loss_value.item()\n",
        "  print(f\"epoch {epoch+1} loss {tl/len(train_dataloader)}\")\n"
      ],
      "metadata": {
        "colab": {
          "base_uri": "https://localhost:8080/"
        },
        "id": "w9C4Jv9u66EZ",
        "outputId": "ff833cb3-9ea3-4751-85e6-5315c21ed656"
      },
      "execution_count": 107,
      "outputs": [
        {
          "output_type": "stream",
          "name": "stdout",
          "text": [
            "epoch 1 loss 0.650242635011673\n",
            "epoch 2 loss 0.40627713590860365\n",
            "epoch 3 loss 0.36285489588975905\n",
            "epoch 4 loss 0.34132409244775774\n",
            "epoch 5 loss 0.32032953187823293\n",
            "epoch 6 loss 0.3054966226220131\n",
            "epoch 7 loss 0.29567243993282316\n",
            "epoch 8 loss 0.28598768889904025\n",
            "epoch 9 loss 0.2834609825909138\n",
            "epoch 10 loss 0.2685775351524353\n",
            "epoch 11 loss 0.2563161215186119\n",
            "epoch 12 loss 0.2589931057393551\n",
            "epoch 13 loss 0.25036831945180893\n",
            "epoch 14 loss 0.24507944241166116\n",
            "epoch 15 loss 0.23346840143203734\n",
            "epoch 16 loss 0.22884146869182587\n",
            "epoch 17 loss 0.23223177298903466\n",
            "epoch 18 loss 0.23370563969016075\n",
            "epoch 19 loss 0.2208857122063637\n",
            "epoch 20 loss 0.21808163449168205\n",
            "epoch 21 loss 0.2072797791659832\n",
            "epoch 22 loss 0.20827357061207294\n",
            "epoch 23 loss 0.20563485831022263\n",
            "epoch 24 loss 0.20231017597019674\n",
            "epoch 25 loss 0.20500128611922264\n",
            "epoch 26 loss 0.21066302701830864\n",
            "epoch 27 loss 0.20136440232396124\n",
            "epoch 28 loss 0.19146577529609204\n",
            "epoch 29 loss 0.18893444940447807\n",
            "epoch 30 loss 0.19227437451481819\n",
            "epoch 31 loss 0.1852843552827835\n",
            "epoch 32 loss 0.18081309832632542\n",
            "epoch 33 loss 0.18429950900375844\n",
            "epoch 34 loss 0.17953719526529313\n",
            "epoch 35 loss 0.18169681780040264\n",
            "epoch 36 loss 0.17520027033984661\n",
            "epoch 37 loss 0.1691834844648838\n",
            "epoch 38 loss 0.1749758242815733\n",
            "epoch 39 loss 0.17405683785676956\n",
            "epoch 40 loss 0.16777157254517078\n",
            "epoch 41 loss 0.1745023239403963\n",
            "epoch 42 loss 0.16406012736260892\n",
            "epoch 43 loss 0.17355513609945775\n",
            "epoch 44 loss 0.16080643519759177\n",
            "epoch 45 loss 0.14687091954052447\n",
            "epoch 46 loss 0.15932862214744092\n",
            "epoch 47 loss 0.16549821734428405\n",
            "epoch 48 loss 0.15555528588593007\n",
            "epoch 49 loss 0.15297785505652428\n",
            "epoch 50 loss 0.14553048007190228\n",
            "epoch 51 loss 0.1626519761234522\n",
            "epoch 52 loss 0.15456929713487624\n",
            "epoch 53 loss 0.14953181862831116\n",
            "epoch 54 loss 0.15188716135919095\n",
            "epoch 55 loss 0.15345951303839683\n",
            "epoch 56 loss 0.14419269025325776\n",
            "epoch 57 loss 0.1438009002059698\n",
            "epoch 58 loss 0.14609381556510925\n",
            "epoch 59 loss 0.14651458397507666\n",
            "epoch 60 loss 0.1333622355759144\n",
            "epoch 61 loss 0.13382300950586795\n",
            "epoch 62 loss 0.1398791829496622\n",
            "epoch 63 loss 0.1468060552328825\n",
            "epoch 64 loss 0.14299464762210845\n",
            "epoch 65 loss 0.1319814196974039\n",
            "epoch 66 loss 0.1368289317190647\n",
            "epoch 67 loss 0.13113763459026814\n",
            "epoch 68 loss 0.1251370058208704\n",
            "epoch 69 loss 0.13070986226201056\n",
            "epoch 70 loss 0.13227260127663612\n",
            "epoch 71 loss 0.14079758398234843\n",
            "epoch 72 loss 0.14586260892450809\n",
            "epoch 73 loss 0.13327704034745694\n",
            "epoch 74 loss 0.13058778658509254\n",
            "epoch 75 loss 0.11900209628045559\n",
            "epoch 76 loss 0.11438650265336037\n",
            "epoch 77 loss 0.1179876483976841\n",
            "epoch 78 loss 0.11586137808859348\n",
            "epoch 79 loss 0.12019499816000462\n",
            "epoch 80 loss 0.13165508151054384\n",
            "epoch 81 loss 0.12312103234231472\n",
            "epoch 82 loss 0.11366509344428778\n",
            "epoch 83 loss 0.13213876854628326\n",
            "epoch 84 loss 0.11350017443299293\n",
            "epoch 85 loss 0.12995633855462074\n",
            "epoch 86 loss 0.1162523526698351\n",
            "epoch 87 loss 0.10385655246675014\n",
            "epoch 88 loss 0.12097165681421757\n",
            "epoch 89 loss 0.10941555563360453\n",
            "epoch 90 loss 0.10235778026282788\n",
            "epoch 91 loss 0.11652144558727741\n",
            "epoch 92 loss 0.12401492200791836\n",
            "epoch 93 loss 0.11029076963663101\n",
            "epoch 94 loss 0.10341581229120493\n",
            "epoch 95 loss 0.10356689170002938\n",
            "epoch 96 loss 0.11693648118525743\n",
            "epoch 97 loss 0.12049386486411094\n",
            "epoch 98 loss 0.10513338383287191\n",
            "epoch 99 loss 0.10832448299974202\n",
            "epoch 100 loss 0.09413517571985722\n"
          ]
        }
      ]
    },
    {
      "cell_type": "code",
      "source": [
        "# set model for evaluation\n",
        "model.eval()  # mode change for evaluation\n"
      ],
      "metadata": {
        "colab": {
          "base_uri": "https://localhost:8080/"
        },
        "id": "6ijagSEL8lvv",
        "outputId": "dd7c63c5-061a-4fb1-8f79-087ce9aee8ca"
      },
      "execution_count": 108,
      "outputs": [
        {
          "output_type": "execute_result",
          "data": {
            "text/plain": [
              "MyNN(\n",
              "  (model): Sequential(\n",
              "    (0): Linear(in_features=784, out_features=128, bias=True)\n",
              "    (1): ReLU()\n",
              "    (2): Linear(in_features=128, out_features=64, bias=True)\n",
              "    (3): ReLU()\n",
              "    (4): Linear(in_features=64, out_features=10, bias=True)\n",
              "  )\n",
              ")"
            ]
          },
          "metadata": {},
          "execution_count": 108
        }
      ]
    },
    {
      "cell_type": "code",
      "source": [
        "# evaluation code\n",
        "total=0\n",
        "correct=0\n",
        "\n",
        "with torch.no_grad():\n",
        "  for batch_featurs,batch_labels in test_dataloader:\n",
        "    #moving to gpu\n",
        "    batch_featurs=batch_featurs.to(device)\n",
        "    batch_labels=batch_labels.to(device)\n",
        "\n",
        "    output=model(batch_featurs)\n",
        "    _,predicted=torch.max(output.data,1)\n",
        "    total+= batch_labels.shape[0]\n",
        "    correct+= (predicted==batch_labels).sum().item()\n",
        "print(f\"Accuracy: {correct/total}\")\n"
      ],
      "metadata": {
        "colab": {
          "base_uri": "https://localhost:8080/"
        },
        "id": "t0zdgh4u_MlC",
        "outputId": "b2eab3c4-42c7-4a71-92a5-19d10ceb102a"
      },
      "execution_count": 109,
      "outputs": [
        {
          "output_type": "stream",
          "name": "stdout",
          "text": [
            "Accuracy: 0.8745833333333334\n"
          ]
        }
      ]
    },
    {
      "cell_type": "code",
      "source": [
        "len(test_dataloader)"
      ],
      "metadata": {
        "colab": {
          "base_uri": "https://localhost:8080/"
        },
        "id": "5mCt_FCK_grM",
        "outputId": "bb1eebe1-846f-492f-b4d2-af0fb4c1052e"
      },
      "execution_count": 110,
      "outputs": [
        {
          "output_type": "execute_result",
          "data": {
            "text/plain": [
              "25"
            ]
          },
          "metadata": {},
          "execution_count": 110
        }
      ]
    },
    {
      "cell_type": "code",
      "source": [],
      "metadata": {
        "id": "6StYbKeTLSX6"
      },
      "execution_count": 110,
      "outputs": []
    }
  ]
}