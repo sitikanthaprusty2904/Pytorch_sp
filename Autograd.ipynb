{
  "nbformat": 4,
  "nbformat_minor": 0,
  "metadata": {
    "colab": {
      "provenance": [],
      "authorship_tag": "ABX9TyO46dXqcVfWMb/qxNBsUACv",
      "include_colab_link": true
    },
    "kernelspec": {
      "name": "python3",
      "display_name": "Python 3"
    },
    "language_info": {
      "name": "python"
    }
  },
  "cells": [
    {
      "cell_type": "markdown",
      "metadata": {
        "id": "view-in-github",
        "colab_type": "text"
      },
      "source": [
        "<a href=\"https://colab.research.google.com/github/sitikanthaprusty2904/Pytorch_sp/blob/main/Autograd.ipynb\" target=\"_parent\"><img src=\"https://colab.research.google.com/assets/colab-badge.svg\" alt=\"Open In Colab\"/></a>"
      ]
    },
    {
      "cell_type": "code",
      "execution_count": 35,
      "metadata": {
        "colab": {
          "base_uri": "https://localhost:8080/"
        },
        "id": "fULzsqaa6f6k",
        "outputId": "88ea1c57-fb79-4aec-8f2d-d3c9404fcbd4"
      },
      "outputs": [
        {
          "output_type": "execute_result",
          "data": {
            "text/plain": [
              "tensor(11.)"
            ]
          },
          "metadata": {},
          "execution_count": 35
        }
      ],
      "source": [
        "import torch\n",
        "x=torch.tensor(4.0,requires_grad=True)\n",
        "y=x**2+3*x\n",
        "y.backward()\n",
        "x.grad\n",
        "\n",
        "# dy/dx calculation"
      ]
    },
    {
      "cell_type": "code",
      "source": [
        "l=torch.tensor(4.0,requires_grad=True)\n",
        "k=l**2\n",
        "z=torch.sin(k)\n",
        "z.backward()\n",
        "print(k)\n",
        "print(z)\n",
        "l.grad\n",
        "\n"
      ],
      "metadata": {
        "colab": {
          "base_uri": "https://localhost:8080/"
        },
        "id": "TcQ83Yah6yea",
        "outputId": "54f53f82-4b3a-462a-ea66-10119f94e81a"
      },
      "execution_count": 36,
      "outputs": [
        {
          "output_type": "stream",
          "name": "stdout",
          "text": [
            "tensor(16., grad_fn=<PowBackward0>)\n",
            "tensor(-0.2879, grad_fn=<SinBackward0>)\n"
          ]
        },
        {
          "output_type": "execute_result",
          "data": {
            "text/plain": [
              "tensor(-7.6613)"
            ]
          },
          "metadata": {},
          "execution_count": 36
        }
      ]
    },
    {
      "cell_type": "code",
      "source": [
        "\n",
        "# import torch.nn.functional as F\n",
        "\n",
        "# EXAMPLE 2\n",
        "\n",
        "#data\n",
        "xx=torch.tensor(6.7)\n",
        "yy_t=torch.tensor(0.0)\n",
        "w=torch.tensor(1.0, requires_grad=True)\n",
        "b=torch.tensor(0.0, requires_grad=True)\n",
        "\n",
        "#forward\n",
        "z=w*xx+b\n",
        "yy=torch.sigmoid(z)  # yy=1/(1+torch.exp(-z))\n",
        "L=torch.nn.functional.binary_cross_entropy(yy,yy_t)  #L=-(yy_t*torch.log(yy)+(1-yy_t)*torch.log(1-yy))\n",
        "\n",
        "#backward\n",
        "L.backward()\n",
        "\n",
        "#results\n",
        "print(L)\n",
        "print(w.grad)\n",
        "print(b.grad)"
      ],
      "metadata": {
        "id": "fJWoZ8Iu9KBa",
        "colab": {
          "base_uri": "https://localhost:8080/"
        },
        "outputId": "7b9ca1df-bde3-4630-d1f4-d0bef02e91de"
      },
      "execution_count": 57,
      "outputs": [
        {
          "output_type": "stream",
          "name": "stdout",
          "text": [
            "tensor(6.7012, grad_fn=<BinaryCrossEntropyBackward0>)\n",
            "tensor(6.6918)\n",
            "tensor(0.9988)\n"
          ]
        }
      ]
    },
    {
      "cell_type": "code",
      "source": [
        "# VECTOR TENSOR\n",
        "x=torch.tensor([1,2,3,4,5],requires_grad=True, dtype=torch.float32)\n",
        "x\n"
      ],
      "metadata": {
        "colab": {
          "base_uri": "https://localhost:8080/"
        },
        "id": "us4wyMJBIAFE",
        "outputId": "f6aadfc2-f6f5-432a-e801-53f62d894a6f"
      },
      "execution_count": 63,
      "outputs": [
        {
          "output_type": "execute_result",
          "data": {
            "text/plain": [
              "tensor([1., 2., 3., 4., 5.], requires_grad=True)"
            ]
          },
          "metadata": {},
          "execution_count": 63
        }
      ]
    },
    {
      "cell_type": "code",
      "source": [
        "#forward & backward pass\n",
        "y=torch.dot(torch.sin(x**2),torch.cos(x**2))\n",
        "y.backward()\n",
        "x.grad"
      ],
      "metadata": {
        "colab": {
          "base_uri": "https://localhost:8080/"
        },
        "id": "k3ywyp6MJruI",
        "outputId": "db1acce3-129b-4cf1-94cb-99c95a83d893"
      },
      "execution_count": 64,
      "outputs": [
        {
          "output_type": "execute_result",
          "data": {
            "text/plain": [
              "tensor([-0.8323, -0.5820,  3.9619,  6.6738,  9.6497])"
            ]
          },
          "metadata": {},
          "execution_count": 64
        }
      ]
    },
    {
      "cell_type": "code",
      "source": [
        "# most imp to clear grad if this will not be done then while repating for & back pass grad values gets added\n",
        "# by making grd values 0 now addtion with 0 gives correct ans only\n",
        "x.grad.zero_()"
      ],
      "metadata": {
        "colab": {
          "base_uri": "https://localhost:8080/"
        },
        "id": "pMyYjDe9Lz7K",
        "outputId": "f921a06d-0839-44dd-aed8-8d1ed94e4c80"
      },
      "execution_count": 60,
      "outputs": [
        {
          "output_type": "execute_result",
          "data": {
            "text/plain": [
              "tensor([0., 0., 0., 0., 0.])"
            ]
          },
          "metadata": {},
          "execution_count": 60
        }
      ]
    },
    {
      "cell_type": "markdown",
      "source": [
        "REMOVING GRAD\n"
      ],
      "metadata": {
        "id": "8_k56DLHNL9s"
      }
    },
    {
      "cell_type": "code",
      "source": [
        "# we usually remove grad after training while predication\n",
        "\n",
        "#1. using requires_grad_(False)\n",
        "x.requires_grad_(False)"
      ],
      "metadata": {
        "id": "1pgkujy2MJF5",
        "outputId": "fed71df1-9b5c-42f5-e5a6-5ad9eace838f",
        "colab": {
          "base_uri": "https://localhost:8080/"
        }
      },
      "execution_count": 69,
      "outputs": [
        {
          "output_type": "execute_result",
          "data": {
            "text/plain": [
              "tensor([1., 2., 3., 4., 5.])"
            ]
          },
          "metadata": {},
          "execution_count": 69
        }
      ]
    },
    {
      "cell_type": "code",
      "source": [
        "#2. detach()\n",
        "x.detach()"
      ],
      "metadata": {
        "id": "tL_GmItUNfcx",
        "outputId": "c5c17539-f56f-452d-e83a-9c2122cd6025",
        "colab": {
          "base_uri": "https://localhost:8080/"
        }
      },
      "execution_count": 70,
      "outputs": [
        {
          "output_type": "execute_result",
          "data": {
            "text/plain": [
              "tensor([1., 2., 3., 4., 5.])"
            ]
          },
          "metadata": {},
          "execution_count": 70
        }
      ]
    },
    {
      "cell_type": "code",
      "source": [
        "#3\n",
        "with torch.no_grad():\n",
        "  y=torch.dot(torch.sin(x**2),torch.cos(x**2))\n",
        "y"
      ],
      "metadata": {
        "id": "J8jPFYmaNtQi",
        "outputId": "a67cd5c9-3bee-4cb3-df83-21fa11a0ebce",
        "colab": {
          "base_uri": "https://localhost:8080/"
        }
      },
      "execution_count": 71,
      "outputs": [
        {
          "output_type": "execute_result",
          "data": {
            "text/plain": [
              "tensor(0.7184)"
            ]
          },
          "metadata": {},
          "execution_count": 71
        }
      ]
    },
    {
      "cell_type": "markdown",
      "source": [
        "THANK YOU"
      ],
      "metadata": {
        "id": "iMoGDzZxOmYk"
      }
    },
    {
      "cell_type": "code",
      "source": [],
      "metadata": {
        "id": "D20eUrxAOhax"
      },
      "execution_count": null,
      "outputs": []
    }
  ]
}