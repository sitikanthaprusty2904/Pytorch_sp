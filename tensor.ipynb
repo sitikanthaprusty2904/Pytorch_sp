{
  "nbformat": 4,
  "nbformat_minor": 0,
  "metadata": {
    "colab": {
      "provenance": [],
      "gpuType": "T4",
      "authorship_tag": "ABX9TyMvoZog0ECayjgn8nNIDkQ2",
      "include_colab_link": true
    },
    "kernelspec": {
      "name": "python3",
      "display_name": "Python 3"
    },
    "language_info": {
      "name": "python"
    },
    "accelerator": "GPU"
  },
  "cells": [
    {
      "cell_type": "markdown",
      "metadata": {
        "id": "view-in-github",
        "colab_type": "text"
      },
      "source": [
        "<a href=\"https://colab.research.google.com/github/sitikanthaprusty2904/Pytorch_sp/blob/main/tensor.ipynb\" target=\"_parent\"><img src=\"https://colab.research.google.com/assets/colab-badge.svg\" alt=\"Open In Colab\"/></a>"
      ]
    },
    {
      "cell_type": "code",
      "execution_count": null,
      "metadata": {
        "colab": {
          "base_uri": "https://localhost:8080/"
        },
        "id": "otJaCaVFlzri",
        "outputId": "0acb1273-2ede-4947-f4d4-c5dcae672c9c"
      },
      "outputs": [
        {
          "output_type": "stream",
          "name": "stdout",
          "text": [
            "2.8.0+cu126\n"
          ]
        }
      ],
      "source": [
        "import torch\n",
        "print(torch.__version__)"
      ]
    },
    {
      "cell_type": "code",
      "source": [
        "if(torch.cuda.is_available()):\n",
        "    print(\"GPU is available\")\n",
        "    print(f\"Using GPU:{torch.cuda.get_device_name(0)}\")\n",
        "else:\n",
        "    print(\"GPU is not available, USING CPU\")"
      ],
      "metadata": {
        "colab": {
          "base_uri": "https://localhost:8080/"
        },
        "id": "YJcbdsRomI-k",
        "outputId": "548d72b2-190a-48c8-b6d7-3c65dfd124da"
      },
      "execution_count": null,
      "outputs": [
        {
          "output_type": "stream",
          "name": "stdout",
          "text": [
            "GPU is available\n",
            "Using GPU:Tesla T4\n"
          ]
        }
      ]
    },
    {
      "cell_type": "code",
      "source": [
        "torch.empty(2,3)"
      ],
      "metadata": {
        "colab": {
          "base_uri": "https://localhost:8080/"
        },
        "id": "5GZKun5zmfdo",
        "outputId": "00bf2df5-f8ba-4871-dbc9-ea04073903c9"
      },
      "execution_count": null,
      "outputs": [
        {
          "output_type": "execute_result",
          "data": {
            "text/plain": [
              "tensor([[0., 0., 0.],\n",
              "        [0., 0., 0.]])"
            ]
          },
          "metadata": {},
          "execution_count": 6
        }
      ]
    },
    {
      "cell_type": "code",
      "source": [
        "torch.zeros(2,3)"
      ],
      "metadata": {
        "colab": {
          "base_uri": "https://localhost:8080/"
        },
        "id": "8K0YordGoQuJ",
        "outputId": "2e9cb5e8-74c3-4f4d-8077-c6fb6ac2b31c"
      },
      "execution_count": null,
      "outputs": [
        {
          "output_type": "execute_result",
          "data": {
            "text/plain": [
              "tensor([[0., 0., 0.],\n",
              "        [0., 0., 0.]])"
            ]
          },
          "metadata": {},
          "execution_count": 7
        }
      ]
    },
    {
      "cell_type": "code",
      "source": [
        "torch.ones(4,5)"
      ],
      "metadata": {
        "colab": {
          "base_uri": "https://localhost:8080/"
        },
        "id": "YlapjxC-oTe8",
        "outputId": "d238fc81-e039-4a6e-ec69-6325a3e72a31"
      },
      "execution_count": null,
      "outputs": [
        {
          "output_type": "execute_result",
          "data": {
            "text/plain": [
              "tensor([[1., 1., 1., 1., 1.],\n",
              "        [1., 1., 1., 1., 1.],\n",
              "        [1., 1., 1., 1., 1.],\n",
              "        [1., 1., 1., 1., 1.]])"
            ]
          },
          "metadata": {},
          "execution_count": 8
        }
      ]
    },
    {
      "cell_type": "code",
      "source": [
        "torch.rand(2,3)"
      ],
      "metadata": {
        "colab": {
          "base_uri": "https://localhost:8080/"
        },
        "id": "Dz3PLF3ioVdd",
        "outputId": "b5b83108-dab6-4a79-c9d4-d04a10b3615c"
      },
      "execution_count": null,
      "outputs": [
        {
          "output_type": "execute_result",
          "data": {
            "text/plain": [
              "tensor([[0.9213, 0.4044, 0.6124],\n",
              "        [0.9201, 0.0731, 0.3858]])"
            ]
          },
          "metadata": {},
          "execution_count": 9
        }
      ]
    },
    {
      "cell_type": "code",
      "source": [
        "torch.manual_seed(69)\n",
        "torch.rand(2,3)"
      ],
      "metadata": {
        "colab": {
          "base_uri": "https://localhost:8080/"
        },
        "id": "C6Xdb78ooXes",
        "outputId": "ce71ce92-5857-4818-b086-ea2c6fbb38d1"
      },
      "execution_count": null,
      "outputs": [
        {
          "output_type": "execute_result",
          "data": {
            "text/plain": [
              "tensor([[0.8398, 0.8042, 0.1213],\n",
              "        [0.5309, 0.6646, 0.4077]])"
            ]
          },
          "metadata": {},
          "execution_count": 10
        }
      ]
    },
    {
      "cell_type": "code",
      "source": [
        "torch.manual_seed(69)\n",
        "torch.rand(2,3)"
      ],
      "metadata": {
        "colab": {
          "base_uri": "https://localhost:8080/"
        },
        "id": "Z9vUzLBAod7G",
        "outputId": "8f899c6c-8449-4822-d2e5-5c26ded32fd3"
      },
      "execution_count": null,
      "outputs": [
        {
          "output_type": "execute_result",
          "data": {
            "text/plain": [
              "tensor([[0.8398, 0.8042, 0.1213],\n",
              "        [0.5309, 0.6646, 0.4077]])"
            ]
          },
          "metadata": {},
          "execution_count": 11
        }
      ]
    },
    {
      "cell_type": "code",
      "source": [
        "torch.manual_seed(6)\n",
        "torch.rand(2,3)"
      ],
      "metadata": {
        "colab": {
          "base_uri": "https://localhost:8080/"
        },
        "id": "JIm6beGsogJP",
        "outputId": "aadb4bc7-1bb8-4177-8de3-3133dd10fe8e"
      },
      "execution_count": null,
      "outputs": [
        {
          "output_type": "execute_result",
          "data": {
            "text/plain": [
              "tensor([[0.5722, 0.5539, 0.9868],\n",
              "        [0.6080, 0.2347, 0.4492]])"
            ]
          },
          "metadata": {},
          "execution_count": 12
        }
      ]
    },
    {
      "cell_type": "markdown",
      "source": [
        "CREATING TENSOR\n"
      ],
      "metadata": {
        "id": "fDMbQN5ostHR"
      }
    },
    {
      "cell_type": "code",
      "source": [
        "#arange\n",
        "torch.arange(0,10,2)"
      ],
      "metadata": {
        "colab": {
          "base_uri": "https://localhost:8080/"
        },
        "id": "Au1SKTNSoiMt",
        "outputId": "194d3577-1227-4c14-d98a-33de13167bd4"
      },
      "execution_count": null,
      "outputs": [
        {
          "output_type": "execute_result",
          "data": {
            "text/plain": [
              "tensor([0, 2, 4, 6, 8])"
            ]
          },
          "metadata": {},
          "execution_count": 13
        }
      ]
    },
    {
      "cell_type": "code",
      "source": [
        "#linspace\n",
        "torch.linspace(0,100,11)"
      ],
      "metadata": {
        "colab": {
          "base_uri": "https://localhost:8080/"
        },
        "id": "HqwtRCmMqWlg",
        "outputId": "dc8ad0b9-79ff-4bf3-c824-958703a5f5aa"
      },
      "execution_count": null,
      "outputs": [
        {
          "output_type": "execute_result",
          "data": {
            "text/plain": [
              "tensor([  0.,  10.,  20.,  30.,  40.,  50.,  60.,  70.,  80.,  90., 100.])"
            ]
          },
          "metadata": {},
          "execution_count": 14
        }
      ]
    },
    {
      "cell_type": "code",
      "source": [
        "#eye identity matrix\n",
        "torch.eye(4)"
      ],
      "metadata": {
        "colab": {
          "base_uri": "https://localhost:8080/"
        },
        "id": "cyIsVX3-qc7G",
        "outputId": "3a65964b-b478-4245-ca43-b483828c1b43"
      },
      "execution_count": null,
      "outputs": [
        {
          "output_type": "execute_result",
          "data": {
            "text/plain": [
              "tensor([[1., 0., 0., 0.],\n",
              "        [0., 1., 0., 0.],\n",
              "        [0., 0., 1., 0.],\n",
              "        [0., 0., 0., 1.]])"
            ]
          },
          "metadata": {},
          "execution_count": 15
        }
      ]
    },
    {
      "cell_type": "code",
      "source": [
        "#using full\n",
        "torch.full((4,7), 2)"
      ],
      "metadata": {
        "colab": {
          "base_uri": "https://localhost:8080/"
        },
        "id": "UMIulLPYqqvt",
        "outputId": "14b8fccb-e8b1-4b4f-e3d7-d250eea7107d"
      },
      "execution_count": null,
      "outputs": [
        {
          "output_type": "execute_result",
          "data": {
            "text/plain": [
              "tensor([[2, 2, 2, 2, 2, 2, 2],\n",
              "        [2, 2, 2, 2, 2, 2, 2],\n",
              "        [2, 2, 2, 2, 2, 2, 2],\n",
              "        [2, 2, 2, 2, 2, 2, 2]])"
            ]
          },
          "metadata": {},
          "execution_count": 16
        }
      ]
    },
    {
      "cell_type": "markdown",
      "source": [
        "TENSOR SHAPES"
      ],
      "metadata": {
        "id": "X39fhtySszUn"
      }
    },
    {
      "cell_type": "code",
      "source": [
        "x=torch.tensor([[[2,3],[1,3],[5,6],[1,1]],[[2,3],[1,3],[5,6],[1,1]],[[2,3],[1,3],[5,6],[1,1]]])\n",
        "x.shape\n"
      ],
      "metadata": {
        "colab": {
          "base_uri": "https://localhost:8080/"
        },
        "id": "2ezYQan0sira",
        "outputId": "3ee14943-b377-425e-f834-9313800a96fe"
      },
      "execution_count": null,
      "outputs": [
        {
          "output_type": "execute_result",
          "data": {
            "text/plain": [
              "torch.Size([3, 4, 2])"
            ]
          },
          "metadata": {},
          "execution_count": 17
        }
      ]
    },
    {
      "cell_type": "code",
      "source": [
        "#tensor of x size\n",
        "print(torch.empty_like(x))\n",
        "print(torch.zeros_like(x))\n",
        "print(torch.ones_like(x))\n",
        "# print(torch.rand_like(x))"
      ],
      "metadata": {
        "colab": {
          "base_uri": "https://localhost:8080/"
        },
        "id": "DhD7dODGtWD4",
        "outputId": "a0a6d8ab-55f8-4865-a46f-ce5598496d7f"
      },
      "execution_count": null,
      "outputs": [
        {
          "output_type": "stream",
          "name": "stdout",
          "text": [
            "tensor([[[134133705025904, 134133705026016],\n",
            "         [134133705026128, 134133705026240],\n",
            "         [134133705026352, 134133705026464],\n",
            "         [134133705026576, 134133705026688]],\n",
            "\n",
            "        [[134133705026800, 134133705026912],\n",
            "         [134133705027024, 134133705027136],\n",
            "         [134133705027248, 134133705027360],\n",
            "         [134133705027472, 134133705027584]],\n",
            "\n",
            "        [[134133705027696, 134133705027808],\n",
            "         [       11667072,             129],\n",
            "         [134138111585616, 134138111585616],\n",
            "         [       11666976,        11666976]]])\n",
            "tensor([[[0, 0],\n",
            "         [0, 0],\n",
            "         [0, 0],\n",
            "         [0, 0]],\n",
            "\n",
            "        [[0, 0],\n",
            "         [0, 0],\n",
            "         [0, 0],\n",
            "         [0, 0]],\n",
            "\n",
            "        [[0, 0],\n",
            "         [0, 0],\n",
            "         [0, 0],\n",
            "         [0, 0]]])\n",
            "tensor([[[1, 1],\n",
            "         [1, 1],\n",
            "         [1, 1],\n",
            "         [1, 1]],\n",
            "\n",
            "        [[1, 1],\n",
            "         [1, 1],\n",
            "         [1, 1],\n",
            "         [1, 1]],\n",
            "\n",
            "        [[1, 1],\n",
            "         [1, 1],\n",
            "         [1, 1],\n",
            "         [1, 1]]])\n"
          ]
        }
      ]
    },
    {
      "cell_type": "markdown",
      "source": [
        "TENSOR DATA TYPES"
      ],
      "metadata": {
        "id": "2X9VBLKXxnWl"
      }
    },
    {
      "cell_type": "code",
      "source": [
        "x.dtype"
      ],
      "metadata": {
        "colab": {
          "base_uri": "https://localhost:8080/"
        },
        "id": "ez3v6ajwtygb",
        "outputId": "9f983f7c-3168-4542-8c0e-301cfb3d986b"
      },
      "execution_count": null,
      "outputs": [
        {
          "output_type": "execute_result",
          "data": {
            "text/plain": [
              "torch.int64"
            ]
          },
          "metadata": {},
          "execution_count": 19
        }
      ]
    },
    {
      "cell_type": "code",
      "source": [
        "#assign data type\n",
        "torch.tensor([1.0,2.0,3.0],dtype=torch.int64)"
      ],
      "metadata": {
        "colab": {
          "base_uri": "https://localhost:8080/"
        },
        "id": "aUa7UBWdxq7r",
        "outputId": "15402975-bb14-4397-a832-d3b79782cbca"
      },
      "execution_count": null,
      "outputs": [
        {
          "output_type": "execute_result",
          "data": {
            "text/plain": [
              "tensor([1, 2, 3])"
            ]
          },
          "metadata": {},
          "execution_count": 20
        }
      ]
    },
    {
      "cell_type": "code",
      "source": [
        "torch.tensor([1,2,3],dtype=torch.float32)"
      ],
      "metadata": {
        "colab": {
          "base_uri": "https://localhost:8080/"
        },
        "id": "a8Gj0hpT0fqt",
        "outputId": "77e6366f-82ae-42b7-cf1f-7e1fe3bd05da"
      },
      "execution_count": null,
      "outputs": [
        {
          "output_type": "execute_result",
          "data": {
            "text/plain": [
              "tensor([1., 2., 3.])"
            ]
          },
          "metadata": {},
          "execution_count": 21
        }
      ]
    },
    {
      "cell_type": "code",
      "source": [
        "#using to()\n",
        "x.to(torch.float32)"
      ],
      "metadata": {
        "colab": {
          "base_uri": "https://localhost:8080/"
        },
        "id": "QuL1ybTm0rh7",
        "outputId": "bf9d7256-181f-4da8-ecec-02cf08bddc69"
      },
      "execution_count": null,
      "outputs": [
        {
          "output_type": "execute_result",
          "data": {
            "text/plain": [
              "tensor([[[2., 3.],\n",
              "         [1., 3.],\n",
              "         [5., 6.],\n",
              "         [1., 1.]],\n",
              "\n",
              "        [[2., 3.],\n",
              "         [1., 3.],\n",
              "         [5., 6.],\n",
              "         [1., 1.]],\n",
              "\n",
              "        [[2., 3.],\n",
              "         [1., 3.],\n",
              "         [5., 6.],\n",
              "         [1., 1.]]])"
            ]
          },
          "metadata": {},
          "execution_count": 22
        }
      ]
    },
    {
      "cell_type": "code",
      "source": [
        "# all scalar operation allow like\n",
        "x*3\n",
        "# + - // / % all allows"
      ],
      "metadata": {
        "colab": {
          "base_uri": "https://localhost:8080/"
        },
        "id": "qFHgadYS1YnU",
        "outputId": "354587e0-249e-4464-9958-32d35a45d477"
      },
      "execution_count": null,
      "outputs": [
        {
          "output_type": "execute_result",
          "data": {
            "text/plain": [
              "tensor([[[ 6,  9],\n",
              "         [ 3,  9],\n",
              "         [15, 18],\n",
              "         [ 3,  3]],\n",
              "\n",
              "        [[ 6,  9],\n",
              "         [ 3,  9],\n",
              "         [15, 18],\n",
              "         [ 3,  3]],\n",
              "\n",
              "        [[ 6,  9],\n",
              "         [ 3,  9],\n",
              "         [15, 18],\n",
              "         [ 3,  3]]])"
            ]
          },
          "metadata": {},
          "execution_count": 23
        }
      ]
    },
    {
      "cell_type": "code",
      "source": [
        "# tensor operations happen element wise (+ , -, *, **, /, //)\n",
        "y=x*5\n",
        "x+y"
      ],
      "metadata": {
        "colab": {
          "base_uri": "https://localhost:8080/"
        },
        "id": "9YutzDJrCYpr",
        "outputId": "61951ae3-32bf-4c63-9957-94980689cf21"
      },
      "execution_count": null,
      "outputs": [
        {
          "output_type": "execute_result",
          "data": {
            "text/plain": [
              "tensor([[[12, 18],\n",
              "         [ 6, 18],\n",
              "         [30, 36],\n",
              "         [ 6,  6]],\n",
              "\n",
              "        [[12, 18],\n",
              "         [ 6, 18],\n",
              "         [30, 36],\n",
              "         [ 6,  6]],\n",
              "\n",
              "        [[12, 18],\n",
              "         [ 6, 18],\n",
              "         [30, 36],\n",
              "         [ 6,  6]]])"
            ]
          },
          "metadata": {},
          "execution_count": 24
        }
      ]
    },
    {
      "cell_type": "code",
      "source": [
        "c=torch.tensor([2.4,-3.7,5.1,-7.8])\n",
        "torch.neg(c)"
      ],
      "metadata": {
        "colab": {
          "base_uri": "https://localhost:8080/"
        },
        "id": "SycDmXcEDNkK",
        "outputId": "f4acd78e-fd4f-44d8-a53f-00bc5e505b1a"
      },
      "execution_count": null,
      "outputs": [
        {
          "output_type": "execute_result",
          "data": {
            "text/plain": [
              "tensor([-2.4000,  3.7000, -5.1000,  7.8000])"
            ]
          },
          "metadata": {},
          "execution_count": 25
        }
      ]
    },
    {
      "cell_type": "code",
      "source": [
        "torch.abs(c)"
      ],
      "metadata": {
        "colab": {
          "base_uri": "https://localhost:8080/"
        },
        "id": "Ys8ZLTYbDp7t",
        "outputId": "fc6c7de3-47b1-42fb-8518-e170db53404d"
      },
      "execution_count": null,
      "outputs": [
        {
          "output_type": "execute_result",
          "data": {
            "text/plain": [
              "tensor([2.4000, 3.7000, 5.1000, 7.8000])"
            ]
          },
          "metadata": {},
          "execution_count": 26
        }
      ]
    },
    {
      "cell_type": "code",
      "source": [
        "torch.round(c)"
      ],
      "metadata": {
        "colab": {
          "base_uri": "https://localhost:8080/"
        },
        "id": "uak28rYqDtAJ",
        "outputId": "34bb3e50-079c-4d80-d39d-5259484184ca"
      },
      "execution_count": null,
      "outputs": [
        {
          "output_type": "execute_result",
          "data": {
            "text/plain": [
              "tensor([ 2., -4.,  5., -8.])"
            ]
          },
          "metadata": {},
          "execution_count": 27
        }
      ]
    },
    {
      "cell_type": "code",
      "source": [
        "#ceil round up to next integer\n",
        "torch.ceil(c)"
      ],
      "metadata": {
        "colab": {
          "base_uri": "https://localhost:8080/"
        },
        "id": "xYnmRHG7EFSH",
        "outputId": "f2d1f88f-c091-4d25-a21c-f35ebedf4861"
      },
      "execution_count": null,
      "outputs": [
        {
          "output_type": "execute_result",
          "data": {
            "text/plain": [
              "tensor([ 3., -3.,  6., -7.])"
            ]
          },
          "metadata": {},
          "execution_count": 28
        }
      ]
    },
    {
      "cell_type": "code",
      "source": [
        "# floor round up to prev integer\n",
        "torch.floor(c)"
      ],
      "metadata": {
        "colab": {
          "base_uri": "https://localhost:8080/"
        },
        "id": "OCb6P1_H9UXM",
        "outputId": "285dbc64-d438-49cc-b24b-e392c163140f"
      },
      "execution_count": null,
      "outputs": [
        {
          "output_type": "execute_result",
          "data": {
            "text/plain": [
              "tensor([ 2., -4.,  5., -8.])"
            ]
          },
          "metadata": {},
          "execution_count": 29
        }
      ]
    },
    {
      "cell_type": "code",
      "source": [
        "#clamp use in DL (less than min becomes min and greater than max becomes max rest as it is)\n",
        "torch.clamp(c,min=-2.0,max=3.0)\n"
      ],
      "metadata": {
        "colab": {
          "base_uri": "https://localhost:8080/"
        },
        "id": "BosqOXO89z04",
        "outputId": "8034caed-ad23-4f3a-83dd-6107be1de90e"
      },
      "execution_count": null,
      "outputs": [
        {
          "output_type": "execute_result",
          "data": {
            "text/plain": [
              "tensor([ 2.4000, -2.0000,  3.0000, -2.0000])"
            ]
          },
          "metadata": {},
          "execution_count": 30
        }
      ]
    },
    {
      "cell_type": "markdown",
      "source": [
        "REDUCTION OPERATION\n"
      ],
      "metadata": {
        "id": "pm8DrPko-bI3"
      }
    },
    {
      "cell_type": "code",
      "source": [
        "e=torch.randint(size=(2,3,4),low=0,high=10,dtype=torch.float32)\n",
        "e"
      ],
      "metadata": {
        "colab": {
          "base_uri": "https://localhost:8080/"
        },
        "id": "H9WuTLbU-Lhh",
        "outputId": "53631234-f33f-438a-faa0-8c62cd3d502f"
      },
      "execution_count": null,
      "outputs": [
        {
          "output_type": "execute_result",
          "data": {
            "text/plain": [
              "tensor([[[7., 6., 4., 8.],\n",
              "         [7., 9., 5., 5.],\n",
              "         [7., 2., 3., 9.]],\n",
              "\n",
              "        [[8., 4., 6., 1.],\n",
              "         [6., 4., 2., 4.],\n",
              "         [9., 9., 0., 7.]]])"
            ]
          },
          "metadata": {},
          "execution_count": 31
        }
      ]
    },
    {
      "cell_type": "code",
      "source": [
        "#sum\n",
        "print(torch.sum(e))\n",
        "print(torch.sum(e,dim=0))\n",
        "print(torch.sum(e,dim=1))\n",
        "print(torch.sum(e,dim=2))"
      ],
      "metadata": {
        "colab": {
          "base_uri": "https://localhost:8080/"
        },
        "id": "p9tU_kPD-kt7",
        "outputId": "ab17cf68-b4fd-40da-d884-67e6739e89cd"
      },
      "execution_count": null,
      "outputs": [
        {
          "output_type": "stream",
          "name": "stdout",
          "text": [
            "tensor(132.)\n",
            "tensor([[15., 10., 10.,  9.],\n",
            "        [13., 13.,  7.,  9.],\n",
            "        [16., 11.,  3., 16.]])\n",
            "tensor([[21., 17., 12., 22.],\n",
            "        [23., 17.,  8., 12.]])\n",
            "tensor([[25., 26., 21.],\n",
            "        [19., 16., 25.]])\n"
          ]
        }
      ]
    },
    {
      "cell_type": "code",
      "source": [
        "#mean (only work if dtype is float)\n",
        "print(torch.mean(e,dim=1))\n",
        "\n",
        "#median\n",
        "print(torch.median(e,dim=1))\n",
        "\n",
        "#min max\n",
        "print(torch.min(e,dim=1))\n",
        "print(torch.max(e,dim=1))\n",
        "\n",
        "#product\n",
        "print(torch.prod(e,dim=1))\n",
        "\n",
        "#standard deviation\n",
        "print(torch.std(e,dim=1))\n",
        "\n",
        "#variance\n",
        "print(torch.var(e,dim=1))\n",
        "\n",
        "#ardmin give the position of 1st min from 0 counting\n",
        "print(torch.argmin(e))\n",
        "#argmax give the position of 1st max from 0 counting\n",
        "print(torch.argmax(e))"
      ],
      "metadata": {
        "colab": {
          "base_uri": "https://localhost:8080/"
        },
        "id": "xdHm0JZq-xYI",
        "outputId": "ee99496a-45c5-435c-db1f-72cdbb95c267"
      },
      "execution_count": null,
      "outputs": [
        {
          "output_type": "stream",
          "name": "stdout",
          "text": [
            "tensor([[7.0000, 5.6667, 4.0000, 7.3333],\n",
            "        [7.6667, 5.6667, 2.6667, 4.0000]])\n",
            "torch.return_types.median(\n",
            "values=tensor([[7., 6., 4., 8.],\n",
            "        [8., 4., 2., 4.]]),\n",
            "indices=tensor([[1, 0, 0, 0],\n",
            "        [0, 1, 1, 1]]))\n",
            "torch.return_types.min(\n",
            "values=tensor([[7., 2., 3., 5.],\n",
            "        [6., 4., 0., 1.]]),\n",
            "indices=tensor([[0, 2, 2, 1],\n",
            "        [1, 0, 2, 0]]))\n",
            "torch.return_types.max(\n",
            "values=tensor([[7., 9., 5., 9.],\n",
            "        [9., 9., 6., 7.]]),\n",
            "indices=tensor([[0, 1, 1, 2],\n",
            "        [2, 2, 0, 2]]))\n",
            "tensor([[343., 108.,  60., 360.],\n",
            "        [432., 144.,   0.,  28.]])\n",
            "tensor([[0.0000, 3.5119, 1.0000, 2.0817],\n",
            "        [1.5275, 2.8868, 3.0551, 3.0000]])\n",
            "tensor([[ 0.0000, 12.3333,  1.0000,  4.3333],\n",
            "        [ 2.3333,  8.3333,  9.3333,  9.0000]])\n",
            "tensor(22)\n",
            "tensor(5)\n"
          ]
        }
      ]
    },
    {
      "cell_type": "markdown",
      "source": [
        "MATRIX OPERATIONS"
      ],
      "metadata": {
        "id": "REbC4hDhDo8b"
      }
    },
    {
      "cell_type": "code",
      "source": [
        "a=torch.randint(size=(2,3),low=1,high=10)\n",
        "b=torch.randint(size=(3,2),low=1,high=10)\n",
        "c=torch.tensor([1,2,4])\n",
        "d=torch.tensor([2,3,1])\n",
        "\n",
        "print(a)\n",
        "print(b)\n",
        "# matmul\n",
        "dj=torch.matmul(a,b)\n",
        "print(dj)\n",
        "\n",
        "#dotprod\n",
        "print(torch.dot(c,d))\n",
        "\n",
        "#transpose\n",
        "print(torch.transpose(a,0,1))\n",
        "\n",
        "#inc=verse\n",
        "dj=dj.to(torch.float32)\n",
        "print(torch.inverse(dj))\n",
        "\n",
        "#determinant\n",
        "print(torch.det(dj))\n",
        "\n",
        "#comparision\n",
        "print(c>d)\n",
        "#similarly < >= <= =="
      ],
      "metadata": {
        "colab": {
          "base_uri": "https://localhost:8080/"
        },
        "id": "kYXSVg1wAOOc",
        "outputId": "673048d7-0aa5-4302-a3c0-c45f98716d31"
      },
      "execution_count": null,
      "outputs": [
        {
          "output_type": "stream",
          "name": "stdout",
          "text": [
            "tensor([[1, 8, 5],\n",
            "        [4, 9, 3]])\n",
            "tensor([[9, 9],\n",
            "        [6, 3],\n",
            "        [8, 6]])\n",
            "tensor([[ 97,  63],\n",
            "        [114,  81]])\n",
            "tensor(12)\n",
            "tensor([[1, 4],\n",
            "        [8, 9],\n",
            "        [5, 3]])\n",
            "tensor([[ 0.1200, -0.0933],\n",
            "        [-0.1689,  0.1437]])\n",
            "tensor(675.0002)\n",
            "tensor([False, False,  True])\n"
          ]
        }
      ]
    },
    {
      "cell_type": "markdown",
      "source": [
        "SPECIAL FUNCTIONS IMP"
      ],
      "metadata": {
        "id": "3AiAACQqKF_v"
      }
    },
    {
      "cell_type": "code",
      "source": [
        "op=torch.randint(size=(2,3),low=-10,high=10,dtype=torch.float32)\n",
        "print(op)\n",
        "\n",
        "#log exp sqrt\n",
        "print(torch.log(op))\n",
        "\n",
        "#sigmoid\n",
        "print(torch.sigmoid(op))\n",
        "\n",
        "#softmax\n",
        "print(torch.softmax(op,dim=1))\n",
        "print(torch.softmax(op,dim=0))\n",
        "\n",
        "#tanh\n",
        "print(torch.tanh(op))\n",
        "\n",
        "#relu\n",
        "print(torch.relu(op))"
      ],
      "metadata": {
        "colab": {
          "base_uri": "https://localhost:8080/"
        },
        "id": "-mFwsZSlD_1E",
        "outputId": "7ba2af08-97ca-4cfe-815f-b392119c08de"
      },
      "execution_count": null,
      "outputs": [
        {
          "output_type": "stream",
          "name": "stdout",
          "text": [
            "tensor([[ 4.,  2., -8.],\n",
            "        [ 1.,  4.,  9.]])\n",
            "tensor([[1.3863, 0.6931,    nan],\n",
            "        [0.0000, 1.3863, 2.1972]])\n",
            "tensor([[9.8201e-01, 8.8080e-01, 3.3535e-04],\n",
            "        [7.3106e-01, 9.8201e-01, 9.9988e-01]])\n",
            "tensor([[8.8079e-01, 1.1920e-01, 5.4118e-06],\n",
            "        [3.3311e-04, 6.6906e-03, 9.9298e-01]])\n",
            "tensor([[9.5257e-01, 1.1920e-01, 4.1399e-08],\n",
            "        [4.7426e-02, 8.8080e-01, 1.0000e+00]])\n",
            "tensor([[ 0.9993,  0.9640, -1.0000],\n",
            "        [ 0.7616,  0.9993,  1.0000]])\n",
            "tensor([[4., 2., 0.],\n",
            "        [1., 4., 9.]])\n"
          ]
        }
      ]
    },
    {
      "cell_type": "markdown",
      "source": [
        "inplace operations"
      ],
      "metadata": {
        "id": "1BTEpQYVUe_M"
      }
    },
    {
      "cell_type": "code",
      "source": [
        "m=torch.randint(size=(2,3),low=-10, high=10, dtype=torch.float32)\n",
        "n=torch.randint(size=(2,3),low=-10,high=10, dtype=torch.float32)\n",
        "print(m)\n",
        "print(n)\n",
        "\n",
        "#addition\n",
        "print(torch.add(m,n))  #add both and give a new tensor\n",
        "m.add_(n) # n added to m\n",
        "print(m)\n",
        "\n",
        "\n",
        "#relu\n",
        "print(torch.relu(n))\n",
        "n.relu_()\n",
        "print(n)\n",
        "\n",
        "#sigmoid\n",
        "print(torch.sigmoid(m))\n",
        "m.sigmoid_()\n",
        "print(m)\n",
        "\n",
        "# KEY point is use _ after function to do inplace"
      ],
      "metadata": {
        "id": "L6US9d9lKqr6",
        "colab": {
          "base_uri": "https://localhost:8080/"
        },
        "outputId": "13abbd6e-727a-47bf-846b-eda2434f827c"
      },
      "execution_count": null,
      "outputs": [
        {
          "output_type": "stream",
          "name": "stdout",
          "text": [
            "tensor([[ -7.,  -1.,  -2.],\n",
            "        [-10.,   5.,   7.]])\n",
            "tensor([[  3.,  -8.,   4.],\n",
            "        [  4.,   5., -10.]])\n",
            "tensor([[-4., -9.,  2.],\n",
            "        [-6., 10., -3.]])\n",
            "tensor([[-4., -9.,  2.],\n",
            "        [-6., 10., -3.]])\n",
            "tensor([[3., 0., 4.],\n",
            "        [4., 5., 0.]])\n",
            "tensor([[3., 0., 4.],\n",
            "        [4., 5., 0.]])\n",
            "tensor([[1.7986e-02, 1.2339e-04, 8.8080e-01],\n",
            "        [2.4726e-03, 9.9995e-01, 4.7426e-02]])\n",
            "tensor([[1.7986e-02, 1.2339e-04, 8.8080e-01],\n",
            "        [2.4726e-03, 9.9995e-01, 4.7426e-02]])\n"
          ]
        }
      ]
    },
    {
      "cell_type": "markdown",
      "source": [
        "COPY TENSOR"
      ],
      "metadata": {
        "id": "Y8ntFjDKa0g9"
      }
    },
    {
      "cell_type": "code",
      "source": [
        "# important point\n",
        "# when we use a=b in tensor another a is not created rather a variable is pointed towards same data where b is pointing\n",
        "\n",
        "#proof\n",
        "a=torch.rand(2,3)\n",
        "b=a\n",
        "print(a)\n",
        "\n",
        "print(id(a))\n",
        "print(id(b))\n",
        "#both id are same"
      ],
      "metadata": {
        "colab": {
          "base_uri": "https://localhost:8080/"
        },
        "id": "H91iY-HIU1Li",
        "outputId": "67a1f0a8-0b20-450d-fd14-ee8811a28ef7"
      },
      "execution_count": null,
      "outputs": [
        {
          "output_type": "stream",
          "name": "stdout",
          "text": [
            "tensor([[0.6226, 0.8218, 0.5171],\n",
            "        [0.6972, 0.4372, 0.6281]])\n",
            "134133705062624\n",
            "134133705062624\n"
          ]
        }
      ]
    },
    {
      "cell_type": "code",
      "source": [
        "#HENCE if u change anything in a b also changes\n",
        "a[0][0]=-100\n",
        "\n",
        "print(a)\n",
        "print(b) # b[0][0] also changed"
      ],
      "metadata": {
        "colab": {
          "base_uri": "https://localhost:8080/"
        },
        "id": "Bc4b1n9ybJi9",
        "outputId": "73744d5f-fff7-45aa-a7b6-5ad6a4d3c81a"
      },
      "execution_count": null,
      "outputs": [
        {
          "output_type": "stream",
          "name": "stdout",
          "text": [
            "tensor([[-100.0000,    0.8218,    0.5171],\n",
            "        [   0.6972,    0.4372,    0.6281]])\n",
            "tensor([[-100.0000,    0.8218,    0.5171],\n",
            "        [   0.6972,    0.4372,    0.6281]])\n"
          ]
        }
      ]
    },
    {
      "cell_type": "code",
      "source": [
        "# clone  it creates a copy at another memory\n",
        "c=a.clone()\n",
        "a[0][0]=5\n",
        "\n",
        "print(id(a))\n",
        "print(id(c))\n",
        "# different id\n",
        "\n",
        "print(a)\n",
        "print(c)\n",
        "# a changed but not c"
      ],
      "metadata": {
        "colab": {
          "base_uri": "https://localhost:8080/"
        },
        "id": "SUkXGU17beZ_",
        "outputId": "dc17112b-c020-40d5-b3c2-38bc28a4d9b7"
      },
      "execution_count": null,
      "outputs": [
        {
          "output_type": "stream",
          "name": "stdout",
          "text": [
            "134133705062624\n",
            "134133705051584\n",
            "tensor([[5.0000, 0.8218, 0.5171],\n",
            "        [0.6972, 0.4372, 0.6281]])\n",
            "tensor([[-100.0000,    0.8218,    0.5171],\n",
            "        [   0.6972,    0.4372,    0.6281]])\n"
          ]
        }
      ]
    },
    {
      "cell_type": "markdown",
      "source": [
        "TENSORS IN GPU"
      ],
      "metadata": {
        "id": "5_CGmxQEcnCg"
      }
    },
    {
      "cell_type": "code",
      "source": [
        "dev=torch.device('cuda')\n",
        "torch.cuda.is_available()"
      ],
      "metadata": {
        "colab": {
          "base_uri": "https://localhost:8080/"
        },
        "id": "Sovn4SHRbs_B",
        "outputId": "a4e030af-d7ac-43c2-9386-c4aa8e0f81b1"
      },
      "execution_count": null,
      "outputs": [
        {
          "output_type": "execute_result",
          "data": {
            "text/plain": [
              "True"
            ]
          },
          "metadata": {},
          "execution_count": 40
        }
      ]
    },
    {
      "cell_type": "code",
      "source": [
        "# CREATE IN GPU\n",
        "t=torch.randint(size=(2,3),low=0,high=10,device=dev)\n",
        "print(t)"
      ],
      "metadata": {
        "colab": {
          "base_uri": "https://localhost:8080/"
        },
        "id": "GD8UX1g1cZrs",
        "outputId": "d65e790d-6833-44aa-df1b-5d8cec925707"
      },
      "execution_count": null,
      "outputs": [
        {
          "output_type": "stream",
          "name": "stdout",
          "text": [
            "tensor([[7, 8, 8],\n",
            "        [6, 5, 6]], device='cuda:0')\n"
          ]
        }
      ]
    },
    {
      "cell_type": "code",
      "source": [
        "# moving existing cpu tensor to gpu\n",
        "b=a.to(dev)\n",
        "print(b)"
      ],
      "metadata": {
        "colab": {
          "base_uri": "https://localhost:8080/"
        },
        "id": "BmRto30DdT_V",
        "outputId": "5f0dc93b-2c92-4ead-f70c-82dbb563ecf7"
      },
      "execution_count": null,
      "outputs": [
        {
          "output_type": "stream",
          "name": "stdout",
          "text": [
            "tensor([[5.0000, 0.8218, 0.5171],\n",
            "        [0.6972, 0.4372, 0.6281]], device='cuda:0')\n"
          ]
        }
      ]
    },
    {
      "cell_type": "code",
      "source": [
        "# CHECKING TIME PN CPU VS GPU\n",
        "m1=torch.rand(10000,10000)\n",
        "m2=torch.rand(10000,10000)\n",
        "\n",
        "import time\n",
        "t1=time.time()\n",
        "ansc=torch.matmul(m1,m2)\n",
        "print(\"CPU: \",time.time()-t1)\n",
        "\n",
        "mg1=m1.to(dev)\n",
        "mg2=m2.to(dev)\n",
        "t2=time.time()\n",
        "ansg=torch.matmul(mg1,mg2)\n",
        "print(\"GPU: \",time.time()-t2)\n"
      ],
      "metadata": {
        "colab": {
          "base_uri": "https://localhost:8080/"
        },
        "id": "TCosLsYOdoO7",
        "outputId": "31b74a85-1314-440f-e2e6-1d0ecb8244bb"
      },
      "execution_count": null,
      "outputs": [
        {
          "output_type": "stream",
          "name": "stdout",
          "text": [
            "CPU:  27.09240460395813\n",
            "GPU:  0.12761425971984863\n"
          ]
        }
      ]
    },
    {
      "cell_type": "markdown",
      "source": [
        "RESHAPING TENSORS\n"
      ],
      "metadata": {
        "id": "AOPlv-92jtNz"
      }
    },
    {
      "cell_type": "code",
      "source": [
        "tp=torch.ones(4,4)\n",
        "\n",
        "# reshape\n",
        "print(tp.reshape(2,2,2,2))\n",
        "\n",
        "#flatten\n",
        "print(tp.flatten())\n",
        "\n",
        "#permute (rearrange the dimesnions) kind of high order transpose\n",
        "tp2=torch.rand(3,4,2)\n",
        "print(tp2)\n",
        "print(tp2.permute(2,0,1).shape)\n",
        "print(tp2.permute(2,0,1))"
      ],
      "metadata": {
        "colab": {
          "base_uri": "https://localhost:8080/"
        },
        "id": "H_bs8tR4hAQL",
        "outputId": "196070d3-855f-4172-f06b-43b0ec43f8b7"
      },
      "execution_count": null,
      "outputs": [
        {
          "output_type": "stream",
          "name": "stdout",
          "text": [
            "tensor([[[[1., 1.],\n",
            "          [1., 1.]],\n",
            "\n",
            "         [[1., 1.],\n",
            "          [1., 1.]]],\n",
            "\n",
            "\n",
            "        [[[1., 1.],\n",
            "          [1., 1.]],\n",
            "\n",
            "         [[1., 1.],\n",
            "          [1., 1.]]]])\n",
            "tensor([1., 1., 1., 1., 1., 1., 1., 1., 1., 1., 1., 1., 1., 1., 1., 1.])\n",
            "tensor([[[0.7229, 0.2509],\n",
            "         [0.6399, 0.2102],\n",
            "         [0.5653, 0.5342],\n",
            "         [0.5955, 0.6754]],\n",
            "\n",
            "        [[0.7301, 0.1083],\n",
            "         [0.1629, 0.3186],\n",
            "         [0.3743, 0.1828],\n",
            "         [0.3099, 0.4057]],\n",
            "\n",
            "        [[0.2216, 0.7545],\n",
            "         [0.1589, 0.4699],\n",
            "         [0.7357, 0.4133],\n",
            "         [0.3357, 0.8741]]])\n",
            "torch.Size([2, 3, 4])\n",
            "tensor([[[0.7229, 0.6399, 0.5653, 0.5955],\n",
            "         [0.7301, 0.1629, 0.3743, 0.3099],\n",
            "         [0.2216, 0.1589, 0.7357, 0.3357]],\n",
            "\n",
            "        [[0.2509, 0.2102, 0.5342, 0.6754],\n",
            "         [0.1083, 0.3186, 0.1828, 0.4057],\n",
            "         [0.7545, 0.4699, 0.4133, 0.8741]]])\n"
          ]
        }
      ]
    },
    {
      "cell_type": "code",
      "source": [
        "#unsqueeze (can only done at size 1)\n",
        "c=torch.rand(2,4,5,1)\n",
        "c.unsqueeze_(1)\n",
        "print(c.shape)\n",
        "\n",
        "#squeeze  (can only done at size 1)\n",
        "\n",
        "print(c.squeeze(1).shape)\n",
        "print(c.squeeze(4).shape)"
      ],
      "metadata": {
        "colab": {
          "base_uri": "https://localhost:8080/"
        },
        "id": "k0YWZibikAUk",
        "outputId": "93c42bb9-c9dd-4bda-e660-f1a00d4b21ca"
      },
      "execution_count": null,
      "outputs": [
        {
          "output_type": "stream",
          "name": "stdout",
          "text": [
            "torch.Size([2, 1, 4, 5, 1])\n",
            "torch.Size([2, 4, 5, 1])\n",
            "torch.Size([2, 1, 4, 5])\n"
          ]
        }
      ]
    },
    {
      "cell_type": "markdown",
      "source": [
        "NUMPY & PYTORCH"
      ],
      "metadata": {
        "id": "nTZMHfp0n0mJ"
      }
    },
    {
      "cell_type": "code",
      "source": [
        "import numpy as np\n",
        "# TENSOR TO NUMPY ARRAY\n",
        "a=torch.rand(2,3,4)\n",
        "print(type(a))\n",
        "b=a.numpy()\n",
        "print(type(b))\n",
        "\n",
        "\n",
        "# numpy to tensor\n",
        "y=np.ones((2,3,4))\n",
        "print(type(y))\n",
        "z=torch.from_numpy(y)\n",
        "print(type(z))\n"
      ],
      "metadata": {
        "colab": {
          "base_uri": "https://localhost:8080/"
        },
        "id": "ezPitm0_l_iN",
        "outputId": "f213f2f1-6efa-4701-b8be-c304da49e45e"
      },
      "execution_count": null,
      "outputs": [
        {
          "output_type": "stream",
          "name": "stdout",
          "text": [
            "<class 'torch.Tensor'>\n",
            "<class 'numpy.ndarray'>\n",
            "<class 'numpy.ndarray'>\n",
            "<class 'torch.Tensor'>\n"
          ]
        }
      ]
    },
    {
      "cell_type": "markdown",
      "source": [
        "THANK YOU"
      ],
      "metadata": {
        "id": "wlU6KOdg3JWh"
      }
    },
    {
      "cell_type": "code",
      "source": [],
      "metadata": {
        "id": "FbXWBt3CoAvc"
      },
      "execution_count": null,
      "outputs": []
    }
  ]
}