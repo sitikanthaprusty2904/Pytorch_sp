{
  "nbformat": 4,
  "nbformat_minor": 0,
  "metadata": {
    "colab": {
      "provenance": [],
      "authorship_tag": "ABX9TyP47RItisb9RJGt12DNUuR6",
      "include_colab_link": true
    },
    "kernelspec": {
      "name": "python3",
      "display_name": "Python 3"
    },
    "language_info": {
      "name": "python"
    }
  },
  "cells": [
    {
      "cell_type": "markdown",
      "metadata": {
        "id": "view-in-github",
        "colab_type": "text"
      },
      "source": [
        "<a href=\"https://colab.research.google.com/github/sitikanthaprusty2904/Pytorch_sp/blob/main/nn_module.ipynb\" target=\"_parent\"><img src=\"https://colab.research.google.com/assets/colab-badge.svg\" alt=\"Open In Colab\"/></a>"
      ]
    },
    {
      "cell_type": "markdown",
      "source": [
        "SINGLE LAYER NEURAL NETWORK USING NN MODULE"
      ],
      "metadata": {
        "id": "Qd17foxvG4xQ"
      }
    },
    {
      "cell_type": "code",
      "execution_count": 62,
      "metadata": {
        "id": "hOSBh658YBF3"
      },
      "outputs": [],
      "source": [
        "import torch\n",
        "import torch.nn as nn\n",
        "\n",
        "class Model(nn.Module):\n",
        "    def __init__(self,x_num):\n",
        "      super().__init__()\n",
        "      self.linear=nn.Linear(x_num,1) # we send num of features and num of output imp\n",
        "      self.sigmoid=nn.Sigmoid()\n",
        "    def forward(self,x):\n",
        "      y_pred=self.linear(x)\n",
        "      y_pred=self.sigmoid(y_pred)\n",
        "      return y_pred\n",
        ""
      ]
    },
    {
      "cell_type": "code",
      "source": [
        "x=torch.rand(10,5)\n",
        "model=Model(x.shape[1])\n",
        "# model.forward()\n",
        "model(x)\n"
      ],
      "metadata": {
        "colab": {
          "base_uri": "https://localhost:8080/"
        },
        "id": "veTOVCUKAWT9",
        "outputId": "88a5dc62-5201-4d80-be3a-60bbb2ad5661"
      },
      "execution_count": 63,
      "outputs": [
        {
          "output_type": "execute_result",
          "data": {
            "text/plain": [
              "tensor([[0.6690],\n",
              "        [0.6186],\n",
              "        [0.6532],\n",
              "        [0.6719],\n",
              "        [0.6675],\n",
              "        [0.6504],\n",
              "        [0.5856],\n",
              "        [0.6551],\n",
              "        [0.6727],\n",
              "        [0.6639]], grad_fn=<SigmoidBackward0>)"
            ]
          },
          "metadata": {},
          "execution_count": 63
        }
      ]
    },
    {
      "cell_type": "code",
      "source": [
        "#fibal weights\n",
        "model.linear.weight"
      ],
      "metadata": {
        "colab": {
          "base_uri": "https://localhost:8080/"
        },
        "id": "aCbGJLv-DsF-",
        "outputId": "b259289b-d245-4379-9195-c7164ea5ea69"
      },
      "execution_count": 64,
      "outputs": [
        {
          "output_type": "execute_result",
          "data": {
            "text/plain": [
              "Parameter containing:\n",
              "tensor([[ 0.2309,  0.2670,  0.3720,  0.2574, -0.2308]], requires_grad=True)"
            ]
          },
          "metadata": {},
          "execution_count": 64
        }
      ]
    },
    {
      "cell_type": "code",
      "source": [
        "#final bias\n",
        "model.linear.bias"
      ],
      "metadata": {
        "colab": {
          "base_uri": "https://localhost:8080/"
        },
        "id": "j9OimkuwGLAi",
        "outputId": "0b834ae4-82b8-4ba0-ed5a-86fffbaaed0c"
      },
      "execution_count": 65,
      "outputs": [
        {
          "output_type": "execute_result",
          "data": {
            "text/plain": [
              "Parameter containing:\n",
              "tensor([0.1782], requires_grad=True)"
            ]
          },
          "metadata": {},
          "execution_count": 65
        }
      ]
    },
    {
      "cell_type": "markdown",
      "source": [
        "MULTILAYER NEURAL NETWORK USING NN MODULE"
      ],
      "metadata": {
        "id": "5dsP84nAHAhT"
      }
    },
    {
      "cell_type": "code",
      "source": [
        "class model(nn.Module):\n",
        "  def __init__(self,num_features):\n",
        "    super().__init__()\n",
        "    self.linear1=nn.Linear(num_features,5)\n",
        "    self.relu=nn.ReLU()\n",
        "    self.linear2=nn.Linear(5,1)\n",
        "    self.sigmoid=nn.Sigmoid()\n",
        "  def forward(self,x):\n",
        "    yl1=self.linear1(x)\n",
        "    yl1=self.relu(yl1)\n",
        "    y_pred=self.linear2(yl1)\n",
        "    y_pred=self.sigmoid(y_pred)\n",
        "    return y_pred\n"
      ],
      "metadata": {
        "id": "r0Zske_kGPM_"
      },
      "execution_count": 66,
      "outputs": []
    },
    {
      "cell_type": "code",
      "source": [
        "x=torch.rand(10,5)\n",
        "model=model(x.shape[1])\n",
        "model(x)"
      ],
      "metadata": {
        "colab": {
          "base_uri": "https://localhost:8080/"
        },
        "id": "wl-BbADnH0ac",
        "outputId": "4569b013-1490-4c80-ae6f-f93bb5ca05d2"
      },
      "execution_count": 67,
      "outputs": [
        {
          "output_type": "execute_result",
          "data": {
            "text/plain": [
              "tensor([[0.5613],\n",
              "        [0.5579],\n",
              "        [0.5376],\n",
              "        [0.5919],\n",
              "        [0.5719],\n",
              "        [0.5910],\n",
              "        [0.6037],\n",
              "        [0.5985],\n",
              "        [0.5676],\n",
              "        [0.5970]], grad_fn=<SigmoidBackward0>)"
            ]
          },
          "metadata": {},
          "execution_count": 67
        }
      ]
    },
    {
      "cell_type": "markdown",
      "source": [
        "USING SEQUENTIAL APPROACH BEST PRACTICE\n"
      ],
      "metadata": {
        "id": "staeYb7wLOAD"
      }
    },
    {
      "cell_type": "code",
      "source": [
        "class model(nn.Module):\n",
        "  def __init__(self,x_num):\n",
        "    super().__init__()\n",
        "    self.network=nn.Sequential(\n",
        "        nn.Linear(x_num,5),\n",
        "        nn.ReLU(),\n",
        "        nn.Linear(5,1),\n",
        "        nn.Sigmoid()\n",
        "    )\n",
        "  def forward(self,x):\n",
        "    return self.network(x)"
      ],
      "metadata": {
        "id": "qgfobFvKIc6Q"
      },
      "execution_count": 70,
      "outputs": []
    },
    {
      "cell_type": "code",
      "source": [
        "model=model(x.shape[1])\n",
        "model(x)"
      ],
      "metadata": {
        "colab": {
          "base_uri": "https://localhost:8080/"
        },
        "id": "iT-uNZX-Lbdw",
        "outputId": "bfd41ab8-467b-430f-e95c-d9fa4c883857"
      },
      "execution_count": 71,
      "outputs": [
        {
          "output_type": "execute_result",
          "data": {
            "text/plain": [
              "tensor([[0.5257],\n",
              "        [0.5279],\n",
              "        [0.5399],\n",
              "        [0.5273],\n",
              "        [0.5246],\n",
              "        [0.5279],\n",
              "        [0.5160],\n",
              "        [0.5436],\n",
              "        [0.5357],\n",
              "        [0.5236]], grad_fn=<SigmoidBackward0>)"
            ]
          },
          "metadata": {},
          "execution_count": 71
        }
      ]
    },
    {
      "cell_type": "code",
      "source": [],
      "metadata": {
        "id": "MSgU9nBaL9mk"
      },
      "execution_count": 69,
      "outputs": []
    }
  ]
}